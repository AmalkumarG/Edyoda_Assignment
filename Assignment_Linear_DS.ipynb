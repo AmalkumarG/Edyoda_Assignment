{
 "cells": [
  {
   "cell_type": "markdown",
   "id": "0787ed08",
   "metadata": {},
   "source": [
    "1. Write a program to find all pairs of an integer array whose sum is equal to a given number?"
   ]
  },
  {
   "cell_type": "code",
   "execution_count": 1,
   "id": "f926802c",
   "metadata": {},
   "outputs": [
    {
     "name": "stdout",
     "output_type": "stream",
     "text": [
      "num5\n",
      "[0, 5]\n",
      "[1, 4]\n",
      "[2, 3]\n"
     ]
    }
   ],
   "source": [
    "def all_pairs(x):\n",
    "    pair=[[i,j] for i in range(0,x+1) for j in range(i,x+1) if i+j==x]\n",
    "    return pair\n",
    "x=int(input(\"num\"))\n",
    "for i in all_pairs(x):\n",
    "    print(i)"
   ]
  },
  {
   "cell_type": "markdown",
   "id": "c4338a84",
   "metadata": {},
   "source": [
    "2. Write a program to reverse an array in place? In place means you cannot create a new array. You have to update the original array."
   ]
  },
  {
   "cell_type": "code",
   "execution_count": 2,
   "id": "a58772bc",
   "metadata": {},
   "outputs": [
    {
     "name": "stdout",
     "output_type": "stream",
     "text": [
      "enter numbers1 2 3 4 5\n",
      "[5, 4, 3, 2, 1]\n"
     ]
    }
   ],
   "source": [
    "x=list(map(int,input(\"enter numbers\").split()))\n",
    "x=x[::-1]\n",
    "print(x)"
   ]
  },
  {
   "cell_type": "markdown",
   "id": "ca774f5e",
   "metadata": {},
   "source": [
    "3. Write a program to check if two strings are a rotation of each other?"
   ]
  },
  {
   "cell_type": "code",
   "execution_count": 3,
   "id": "c1fa2fb3",
   "metadata": {},
   "outputs": [
    {
     "name": "stdout",
     "output_type": "stream",
     "text": [
      "Enter string1ABCD\n",
      "Enter string2CDAB\n",
      "Strings are in rotation\n"
     ]
    }
   ],
   "source": [
    "def check_rotation(x,y):\n",
    "    if len(x)!=len(y):\n",
    "        return False\n",
    "    t=x*2\n",
    "    if t.count(y)>0:\n",
    "        return True\n",
    "    else:\n",
    "        return False\n",
    "str1=input(\"Enter string1\")\n",
    "str2=input(\"Enter string2\")\n",
    "if check_rotation(str1,str2):\n",
    "    print(\"Strings are in rotation\")\n",
    "else:\n",
    "    print(\"Strings are not in rotation\")"
   ]
  },
  {
   "cell_type": "markdown",
   "id": "2c228b05",
   "metadata": {},
   "source": [
    "4. Write a program to print the first non-repeated character from a string"
   ]
  },
  {
   "cell_type": "code",
   "execution_count": 4,
   "id": "655937d5",
   "metadata": {},
   "outputs": [
    {
     "name": "stdout",
     "output_type": "stream",
     "text": [
      "Enter string to be checkedaabccvfgfgv\n",
      "b\n"
     ]
    }
   ],
   "source": [
    "def check(x):\n",
    "  d={}\n",
    "  for i in x:\n",
    "    d[i]=d.get(i,0)+1\n",
    "  for i,j in d.items():\n",
    "    if j==1:\n",
    "      return i\n",
    "  return \"All characters repeated\"\n",
    "\n",
    "x=input(\"Enter string to be checked\")\n",
    "print(check(x))"
   ]
  },
  {
   "cell_type": "markdown",
   "id": "48551ccb",
   "metadata": {},
   "source": [
    "5. Read about the Tower of Hanoi algorithm. Write a program to implement it."
   ]
  },
  {
   "cell_type": "code",
   "execution_count": 5,
   "id": "6145bdf2",
   "metadata": {},
   "outputs": [
    {
     "name": "stdout",
     "output_type": "stream",
     "text": [
      "Enter number of disks3\n",
      "Enter from fromA\n",
      "Enter To towerC\n",
      "Enter constant towerB\n",
      "1 Moved from A To C\n",
      "2 Moved from A To B\n",
      "1 Moved from C To B\n",
      "3 Moved from A To C\n",
      "1 Moved from B To A\n",
      "2 Moved from B To C\n",
      "1 Moved from A To C\n"
     ]
    }
   ],
   "source": [
    "def tower_of_hanoi(n,A,C,B):\n",
    "    if n==0:\n",
    "        return\n",
    "    tower_of_hanoi(n-1,A,B,C)\n",
    "    print(n,\"Moved from\",A,\"To\",C)\n",
    "    tower_of_hanoi(n-1,B,C,A)\n",
    "\n",
    "n=int(input(\"Enter number of disks\"))\n",
    "frm=input(\"Enter from from\")\n",
    "to=input(\"Enter To tower\")\n",
    "cnst=input(\"Enter constant tower\")\n",
    "tower_of_hanoi(n,frm,to,cnst)"
   ]
  },
  {
   "cell_type": "markdown",
   "id": "04204322",
   "metadata": {},
   "source": [
    "6. Read about infix, prefix, and postfix expressions. Write a program to convert postfix to prefix expression."
   ]
  },
  {
   "cell_type": "code",
   "execution_count": 6,
   "id": "d5797ede",
   "metadata": {},
   "outputs": [
    {
     "name": "stdout",
     "output_type": "stream",
     "text": [
      "Prefix expression: *-A/BC-/AKL\n"
     ]
    }
   ],
   "source": [
    "def postfixtoprefix(x):\n",
    "    s = []\n",
    "    for char in x:\n",
    "        if char not in \"+-*/%^\":\n",
    "            s.append(char)\n",
    "        else:\n",
    "            op2 = s.pop()\n",
    "            op1 = s.pop()\n",
    "            s.append(char + op1 + op2)\n",
    "    return s[0]\n",
    "x = \"ABC/-AK/L-*\"\n",
    "print(\"Prefix expression:\", postfixtoprefix(x))"
   ]
  },
  {
   "cell_type": "markdown",
   "id": "17b130e0",
   "metadata": {},
   "source": [
    "7. Write a program to convert prefix expression to infix expression."
   ]
  },
  {
   "cell_type": "code",
   "execution_count": 7,
   "id": "06a9c999",
   "metadata": {},
   "outputs": [
    {
     "name": "stdout",
     "output_type": "stream",
     "text": [
      "Infix expression: ((P+(Q/R))*((S/T)-U))\n"
     ]
    }
   ],
   "source": [
    "def prefixtoinfix(x):\n",
    "    s = []\n",
    "\n",
    "    for char in x[::-1]:\n",
    "        if char not in \"+-*/%^\":\n",
    "            s.append(char)\n",
    "        else:\n",
    "            if s!=[]:\n",
    "                op1 = s.pop()\n",
    "                if s==[]:\n",
    "                    expression = f\"({op1}{char})\"\n",
    "                    s.append(expression)\n",
    "                else:\n",
    "                    op2 = s.pop()\n",
    "                    expression = f\"({op1}{char}{op2})\"\n",
    "                    s.append(expression)\n",
    "\n",
    "    return s[0]\n",
    "\n",
    "x = \"*+P/QR-/STU\"  \n",
    "print(\"Infix expression:\", prefixtoinfix(x))"
   ]
  },
  {
   "cell_type": "markdown",
   "id": "3de186a8",
   "metadata": {},
   "source": [
    "8. Write a program to check if all the brackets are closed in a given code snippet."
   ]
  },
  {
   "cell_type": "code",
   "execution_count": 8,
   "id": "ce276cc1",
   "metadata": {},
   "outputs": [
    {
     "name": "stdout",
     "output_type": "stream",
     "text": [
      "valid\n",
      "invalid\n",
      "invalid\n",
      "invalid\n"
     ]
    }
   ],
   "source": [
    "def isvalid(y):\n",
    "    d=[]\n",
    "    flag=True\n",
    "    for i in y:\n",
    "        if i in [\"(\",\"{\",\"[\"]:\n",
    "            d.append(i)\n",
    "        elif i in [\")\",\"}\",\"]\"]:\n",
    "            if len(d)==0:\n",
    "                flag=False\n",
    "                break\n",
    "            elif i==\")\":\n",
    "                p=d.pop()\n",
    "                if p!=\"(\":\n",
    "                    flag=False\n",
    "                    break\n",
    "\n",
    "            elif i==\"}\":\n",
    "                p=d.pop()\n",
    "                if p!=\"{\":\n",
    "                    flag=False\n",
    "                    break\n",
    "\n",
    "            elif i==\"]\":\n",
    "                p=d.pop()\n",
    "                if p!=\"[\":\n",
    "                    flag=False\n",
    "                    break\n",
    "\n",
    "    if flag and len(d)==0:\n",
    "        return \"valid\"\n",
    "    return \"invalid\" \n",
    "\n",
    "def check(x):\n",
    "    y=[i for i in x if i in [\"(\",\"{\",\"[\",\")\",\"}\",\"]\"]]\n",
    "    print(isvalid(y))\n",
    "\n",
    "check(\"{[[([{}])]]}\")\n",
    "check(\"{[(})]}\")\n",
    "check(\"{\")\n",
    "check(\"{[]}}\")"
   ]
  },
  {
   "cell_type": "markdown",
   "id": "1365b6be",
   "metadata": {},
   "source": [
    "9. Write a program to reverse a stack."
   ]
  },
  {
   "cell_type": "code",
   "execution_count": 9,
   "id": "62ae4d63",
   "metadata": {},
   "outputs": [
    {
     "name": "stdout",
     "output_type": "stream",
     "text": [
      "[3, 2, 1]\n"
     ]
    }
   ],
   "source": [
    "def insert(s,value):\n",
    "    if x==[]:\n",
    "        x.append(value)\n",
    "    else:\n",
    "        p=s.pop()\n",
    "        insert(s,value)\n",
    "        x.append(p)\n",
    "\n",
    "def reve(s):\n",
    "    if s==[]:\n",
    "        pass\n",
    "    else:\n",
    "        p=s.pop()\n",
    "        reve(s)\n",
    "        insert(s,p)\n",
    "x=[1,2,3]\n",
    "reve(x)\n",
    "print(x)#output-->[3,2,1]"
   ]
  },
  {
   "cell_type": "markdown",
   "id": "0472b813",
   "metadata": {},
   "source": [
    "10. Write a program to find the smallest number using a stack."
   ]
  },
  {
   "cell_type": "code",
   "execution_count": 11,
   "id": "19e2f648",
   "metadata": {},
   "outputs": [
    {
     "name": "stdout",
     "output_type": "stream",
     "text": [
      "1\n",
      "2\n",
      "3\n",
      "5\n",
      "None\n"
     ]
    }
   ],
   "source": [
    "x=[]\n",
    "min=[]\n",
    "def push(v):\n",
    "    x.append(v)\n",
    "    if min==[] or v<=min[-1]:\n",
    "        min.append(v)\n",
    "def pop():\n",
    "    if x ==[]:\n",
    "        return\n",
    "    elif x.pop()==min[-1]:\n",
    "        min.pop()\n",
    "def getmin():\n",
    "    if min==[]:\n",
    "        return\n",
    "    return min[-1]\n",
    "\n",
    "push(5)\n",
    "push(3)\n",
    "push(2)\n",
    "push(1)\n",
    "print(getmin())\n",
    "pop()\n",
    "print(getmin())\n",
    "pop()\n",
    "print(getmin())\n",
    "pop()\n",
    "print(getmin())\n",
    "pop()\n",
    "print(getmin())"
   ]
  },
  {
   "cell_type": "code",
   "execution_count": null,
   "id": "6fb6793a",
   "metadata": {},
   "outputs": [],
   "source": []
  }
 ],
 "metadata": {
  "kernelspec": {
   "display_name": "Python 3 (ipykernel)",
   "language": "python",
   "name": "python3"
  },
  "language_info": {
   "codemirror_mode": {
    "name": "ipython",
    "version": 3
   },
   "file_extension": ".py",
   "mimetype": "text/x-python",
   "name": "python",
   "nbconvert_exporter": "python",
   "pygments_lexer": "ipython3",
   "version": "3.10.9"
  }
 },
 "nbformat": 4,
 "nbformat_minor": 5
}

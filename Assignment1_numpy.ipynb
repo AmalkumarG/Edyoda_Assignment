{
 "cells": [
  {
   "cell_type": "code",
   "execution_count": 1,
   "id": "f06dbb54",
   "metadata": {},
   "outputs": [],
   "source": [
    "import numpy as np\n",
    "from numpy.random import randint as rnt"
   ]
  },
  {
   "cell_type": "markdown",
   "id": "201beb01",
   "metadata": {},
   "source": [
    "# 1. Create a null vector of size 10 but the fifth value which is 1."
   ]
  },
  {
   "cell_type": "code",
   "execution_count": 2,
   "id": "13a0c366",
   "metadata": {},
   "outputs": [
    {
     "data": {
      "text/plain": [
       "array([0, 0, 0, 0, 1, 0, 0, 0, 0, 0], dtype=int64)"
      ]
     },
     "execution_count": 2,
     "metadata": {},
     "output_type": "execute_result"
    }
   ],
   "source": [
    "data=np.zeros(10,dtype=\"int64\")\n",
    "data[4]=1\n",
    "data"
   ]
  },
  {
   "cell_type": "markdown",
   "id": "c2d60cff",
   "metadata": {},
   "source": [
    "# 2. Create a vector with values ranging from 10 to 49."
   ]
  },
  {
   "cell_type": "code",
   "execution_count": 3,
   "id": "47929ad9",
   "metadata": {},
   "outputs": [
    {
     "data": {
      "text/plain": [
       "array([10, 11, 12, 13, 14, 15, 16, 17, 18, 19, 20, 21, 22, 23, 24, 25, 26,\n",
       "       27, 28, 29, 30, 31, 32, 33, 34, 35, 36, 37, 38, 39, 40, 41, 42, 43,\n",
       "       44, 45, 46, 47, 48])"
      ]
     },
     "execution_count": 3,
     "metadata": {},
     "output_type": "execute_result"
    }
   ],
   "source": [
    "data2=np.arange(10,49)\n",
    "data2"
   ]
  },
  {
   "cell_type": "markdown",
   "id": "3f81b681",
   "metadata": {},
   "source": [
    "# 3. Create a 3x3 matrix with values ranging from 0 to 8"
   ]
  },
  {
   "cell_type": "code",
   "execution_count": 4,
   "id": "c3c1eeaa",
   "metadata": {},
   "outputs": [
    {
     "data": {
      "text/plain": [
       "array([[0, 1, 2],\n",
       "       [3, 4, 5],\n",
       "       [6, 7, 8]])"
      ]
     },
     "execution_count": 4,
     "metadata": {},
     "output_type": "execute_result"
    }
   ],
   "source": [
    "data3=np.arange(0,9).reshape(3,3)\n",
    "data3"
   ]
  },
  {
   "cell_type": "markdown",
   "id": "26c9c327",
   "metadata": {},
   "source": [
    "# 4. Find indices of non-zero elements from [1,2,0,0,4,0]"
   ]
  },
  {
   "cell_type": "code",
   "execution_count": 6,
   "id": "1b7a7ad4",
   "metadata": {},
   "outputs": [
    {
     "name": "stdout",
     "output_type": "stream",
     "text": [
      "Non zero elements\n",
      "1 at index 0\n",
      "2 at index 1\n",
      "4 at index 4\n"
     ]
    }
   ],
   "source": [
    "data4=np.array([1,2,0,0,4,0])\n",
    "non_zero=data4.nonzero()\n",
    "print(\"Non zero elements\")\n",
    "for i in non_zero[0]:\n",
    "    print(f\"{data4[i]} at index {i}\")"
   ]
  },
  {
   "cell_type": "markdown",
   "id": "a5ed0b14",
   "metadata": {},
   "source": [
    "# 5. Create a 10x10 array with random values and find the minimum and maximum values."
   ]
  },
  {
   "cell_type": "code",
   "execution_count": 7,
   "id": "09be2c32",
   "metadata": {},
   "outputs": [
    {
     "name": "stdout",
     "output_type": "stream",
     "text": [
      "[[145 125 104 110 140 146 125 133  81 134]\n",
      " [ 83  74 101 118 112  94 117  61  67  88]\n",
      " [ 96 139  99 120 125  51  51 119 141  86]\n",
      " [ 54 123 114  87 129  94  84  56 145 121]\n",
      " [ 79 136  56 109  91  72  73  51 114  71]\n",
      " [ 80 101 110 117  89  71  51  66 142  71]\n",
      " [106 142  98  65 116 149  57 115 113 143]\n",
      " [102 107  60  91 148  96  94 120  88  60]\n",
      " [ 71 145  83 139  84 107 106 140 107  95]\n",
      " [117  60 106  67 146 140 104 117 136 108]]\n",
      "mininum value= 51\n",
      "maximum value= 149\n"
     ]
    }
   ],
   "source": [
    "data5=rnt(50,150,(10,10))\n",
    "print(data5)\n",
    "print(f\"mininum value= {data5.min()}\")\n",
    "print(f\"maximum value= {data5.max()}\")"
   ]
  },
  {
   "cell_type": "markdown",
   "id": "979a28d3",
   "metadata": {},
   "source": [
    "# 6. Create a random vector of size 30 and find the mean value."
   ]
  },
  {
   "cell_type": "code",
   "execution_count": 8,
   "id": "fc0cda94",
   "metadata": {},
   "outputs": [
    {
     "name": "stdout",
     "output_type": "stream",
     "text": [
      "[75 45 81 75 52 87 33 70 10 10 49 34 58 12 31 76 74 67 60 84 56 39 17 90\n",
      " 25 18 95 34 35 73]\n",
      "Mean = 52.166666666666664\n"
     ]
    }
   ],
   "source": [
    "data6=rnt(10,100,30)\n",
    "print(data6)\n",
    "print(f\"Mean = {data6.mean()}\")"
   ]
  }
 ],
 "metadata": {
  "kernelspec": {
   "display_name": "Python 3 (ipykernel)",
   "language": "python",
   "name": "python3"
  },
  "language_info": {
   "codemirror_mode": {
    "name": "ipython",
    "version": 3
   },
   "file_extension": ".py",
   "mimetype": "text/x-python",
   "name": "python",
   "nbconvert_exporter": "python",
   "pygments_lexer": "ipython3",
   "version": "3.10.9"
  }
 },
 "nbformat": 4,
 "nbformat_minor": 5
}
